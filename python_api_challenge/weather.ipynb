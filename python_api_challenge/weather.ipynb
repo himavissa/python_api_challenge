{
 "cells": [
  {
   "cell_type": "code",
   "execution_count": 6,
   "id": "0cab49e2",
   "metadata": {},
   "outputs": [],
   "source": [
    "# Dependencies and Setup\n",
    "import matplotlib.pyplot as plt\n",
    "import pandas as pd\n",
    "import numpy as np\n",
    "import requests\n",
    "import time\n",
    "import json\n",
    "import scipy.stats as st\n",
    "from scipy.stats import linregress\n",
    "\n",
    "# Import API key\n",
    "from api_keys import weather_api_key\n",
    "\n",
    "# Incorporated citipy to determine city based on latitude and longitude\n",
    "from citipy import citipy\n",
    "\n",
    "# Output File (CSV)\n",
    "output_data_file = \"output_data/cities.csv\"\n",
    "\n",
    "# Range of latitudes and longitudes\n",
    "lat_range = (-90, 90)\n",
    "lng_range = (-180, 180)"
   ]
  },
  {
   "cell_type": "code",
   "execution_count": 8,
   "id": "439b3a41",
   "metadata": {},
   "outputs": [
    {
     "data": {
      "text/plain": [
       "598"
      ]
     },
     "execution_count": 8,
     "metadata": {},
     "output_type": "execute_result"
    }
   ],
   "source": [
    "# List for holding lat_lngs and cities\n",
    "lat_lngs = []\n",
    "cities = []\n",
    "\n",
    "# Create a set of random lat and lng combinations\n",
    "lats = np.random.uniform(lat_range[0], lat_range[1], size=1500)\n",
    "lngs = np.random.uniform(lng_range[0], lng_range[1], size=1500)\n",
    "lat_lngs = zip(lats, lngs)\n",
    "\n",
    "# Identify nearest city for each lat, lng combination\n",
    "for lat_lng in lat_lngs:\n",
    "    city = citipy.nearest_city(lat_lng[0], lat_lng[1]).city_name\n",
    "    \n",
    "    # If the city is unique, then add it to a our cities list\n",
    "    if city not in cities:\n",
    "        cities.append(city)\n",
    "\n",
    "# Print the city count to confirm sufficient count\n",
    "len(cities)"
   ]
  },
  {
   "cell_type": "code",
   "execution_count": 25,
   "id": "e8664b3b",
   "metadata": {},
   "outputs": [
    {
     "name": "stdout",
     "output_type": "stream",
     "text": [
      "http://api.openweathermap.org/data/2.5/weather?appid=4830a70ff57de4f62bacecf7cf9ca515&units=imperial&q=\n",
      "Processing Record 1 of Set 1 : cabo san lucas\n",
      "Processing Record 2 of Set 1 : vaini\n",
      "Processing Record 3 of Set 1 : nemuro\n",
      "Processing Record 4 of Set 1 : mataura\n",
      "Processing Record 5 of Set 1 : bluff\n",
      "Processing Record 6 of Set 1 : punta arenas\n",
      "Processing Record 7 of Set 1 : ushuaia\n",
      "Processing Record 8 of Set 1 : butaritari\n",
      "City not found. Skipping...\n",
      "Processing Record 9 of Set 1 : nanortalik\n",
      "Processing Record 10 of Set 1 : puerto ayora\n",
      "Processing Record 11 of Set 1 : east london\n",
      "Processing Record 12 of Set 1 : gorontalo\n",
      "Processing Record 13 of Set 1 : busselton\n",
      "Processing Record 14 of Set 1 : calabozo\n",
      "Processing Record 15 of Set 1 : gemena\n",
      "Processing Record 16 of Set 1 : lebu\n",
      "Processing Record 17 of Set 1 : nikolskoye\n",
      "Processing Record 18 of Set 1 : albany\n",
      "Processing Record 19 of Set 1 : port hardy\n",
      "Processing Record 20 of Set 1 : avera\n",
      "Processing Record 21 of Set 1 : paso de los toros\n",
      "Processing Record 22 of Set 1 : hermanus\n",
      "Processing Record 23 of Set 1 : pilibhit\n",
      "Processing Record 24 of Set 1 : rikitea\n",
      "Processing Record 25 of Set 1 : ylojarvi\n",
      "Processing Record 26 of Set 1 : new norfolk\n",
      "Processing Record 27 of Set 1 : gat\n",
      "Processing Record 28 of Set 1 : pevek\n",
      "Processing Record 29 of Set 1 : tasiilaq\n",
      "Processing Record 30 of Set 1 : gamba\n",
      "Processing Record 31 of Set 1 : saint-philippe\n",
      "Processing Record 32 of Set 1 : belen\n",
      "Processing Record 33 of Set 1 : atuona\n",
      "Processing Record 34 of Set 1 : naples\n",
      "Processing Record 35 of Set 1 : tuktoyaktuk\n",
      "City not found. Skipping...\n",
      "Processing Record 36 of Set 1 : thunder bay\n",
      "Processing Record 37 of Set 1 : chuy\n",
      "City not found. Skipping...\n",
      "Processing Record 38 of Set 1 : jamestown\n",
      "Processing Record 39 of Set 1 : kruisfontein\n",
      "Processing Record 40 of Set 1 : luderitz\n",
      "Processing Record 41 of Set 1 : laguna\n",
      "Processing Record 42 of Set 1 : yellowknife\n",
      "Processing Record 43 of Set 1 : koraput\n",
      "Processing Record 44 of Set 1 : hasaki\n",
      "Processing Record 45 of Set 1 : qui nhon\n",
      "Processing Record 46 of Set 1 : tuatapere\n",
      "Processing Record 47 of Set 1 : taltal\n",
      "Processing Record 48 of Set 1 : warri\n",
      "Processing Record 49 of Set 1 : lasa\n",
      "Processing Record 50 of Set 1 : kyshtovka\n",
      "Processing Record 0 of Set 2 : mombasa\n",
      "Processing Record 1 of Set 2 : eureka\n",
      "Processing Record 2 of Set 2 : andra\n",
      "City not found. Skipping...\n",
      "Processing Record 3 of Set 2 : esteio\n",
      "Processing Record 4 of Set 2 : bredasdorp\n",
      "City not found. Skipping...\n",
      "Processing Record 5 of Set 2 : kudahuvadhoo\n",
      "Processing Record 6 of Set 2 : marsa matruh\n",
      "Processing Record 7 of Set 2 : barrow\n",
      "Processing Record 8 of Set 2 : kaitangata\n",
      "Processing Record 9 of Set 2 : kapaa\n",
      "Processing Record 10 of Set 2 : ahipara\n",
      "Processing Record 11 of Set 2 : avarua\n",
      "Processing Record 12 of Set 2 : lompoc\n",
      "Processing Record 13 of Set 2 : qaanaaq\n",
      "Processing Record 14 of Set 2 : sioux lookout\n",
      "Processing Record 15 of Set 2 : marsabit\n",
      "City not found. Skipping...\n",
      "Processing Record 16 of Set 2 : lapeer\n",
      "City not found. Skipping...\n",
      "Processing Record 17 of Set 2 : faanui\n",
      "Processing Record 18 of Set 2 : rio grande\n",
      "Processing Record 19 of Set 2 : kochevo\n",
      "Processing Record 20 of Set 2 : yar-sale\n",
      "City not found. Skipping...\n",
      "Processing Record 21 of Set 2 : beringovskiy\n",
      "Processing Record 22 of Set 2 : mar del plata\n",
      "Processing Record 23 of Set 2 : shimoda\n",
      "Processing Record 24 of Set 2 : nam phong\n",
      "Processing Record 25 of Set 2 : bairiki\n",
      "Processing Record 26 of Set 2 : kamaishi\n",
      "Processing Record 27 of Set 2 : souillac\n",
      "Processing Record 28 of Set 2 : upernavik\n",
      "Processing Record 29 of Set 2 : vestmannaeyjar\n",
      "Processing Record 30 of Set 2 : foumban\n",
      "Processing Record 31 of Set 2 : paso de carrasco\n",
      "Processing Record 32 of Set 2 : winneba\n",
      "Processing Record 33 of Set 2 : bethanien\n",
      "Processing Record 34 of Set 2 : ribeira grande\n",
      "Processing Record 35 of Set 2 : karachi\n",
      "Processing Record 36 of Set 2 : tiksi\n",
      "Processing Record 37 of Set 2 : okahandja\n",
      "Processing Record 38 of Set 2 : ancud\n",
      "Processing Record 39 of Set 2 : maniitsoq\n",
      "City not found. Skipping...\n",
      "Processing Record 40 of Set 2 : bandarbeyla\n",
      "Processing Record 41 of Set 2 : pacific grove\n",
      "Processing Record 42 of Set 2 : wagga wagga\n",
      "City not found. Skipping...\n",
      "Processing Record 43 of Set 2 : victoria\n",
      "Processing Record 44 of Set 2 : madera\n",
      "Processing Record 45 of Set 2 : nova olimpia\n",
      "Processing Record 46 of Set 2 : hilo\n",
      "Processing Record 47 of Set 2 : bambous virieux\n",
      "Processing Record 48 of Set 2 : nouadhibou\n",
      "Processing Record 49 of Set 2 : abu dhabi\n",
      "Processing Record 50 of Set 2 : concepcion del oro\n",
      "Processing Record 0 of Set 3 : kodiak\n",
      "Processing Record 1 of Set 3 : alofi\n",
      "Processing Record 2 of Set 3 : georgetown\n",
      "Processing Record 3 of Set 3 : aklavik\n",
      "Processing Record 4 of Set 3 : tessalit\n",
      "Processing Record 5 of Set 3 : marawi\n",
      "Processing Record 6 of Set 3 : manaskent\n",
      "Processing Record 7 of Set 3 : longyearbyen\n",
      "Processing Record 8 of Set 3 : saint anthony\n",
      "Processing Record 9 of Set 3 : narayanpet\n",
      "Processing Record 10 of Set 3 : hithadhoo\n",
      "Processing Record 11 of Set 3 : hobart\n",
      "Processing Record 12 of Set 3 : taldan\n",
      "Processing Record 13 of Set 3 : meulaboh\n",
      "Processing Record 14 of Set 3 : terney\n",
      "Processing Record 15 of Set 3 : pimentel\n",
      "Processing Record 16 of Set 3 : bam\n",
      "Processing Record 17 of Set 3 : severo-kurilsk\n",
      "Processing Record 18 of Set 3 : arraial do cabo\n",
      "Processing Record 19 of Set 3 : sao filipe\n",
      "Processing Record 20 of Set 3 : vila\n",
      "Processing Record 21 of Set 3 : acajutla\n",
      "Processing Record 22 of Set 3 : esperance\n",
      "Processing Record 23 of Set 3 : tehri\n",
      "Processing Record 24 of Set 3 : port lincoln\n",
      "Processing Record 25 of Set 3 : juegang\n",
      "Processing Record 26 of Set 3 : quelimane\n",
      "Processing Record 27 of Set 3 : olinda\n",
      "Processing Record 28 of Set 3 : trofors\n",
      "Processing Record 29 of Set 3 : butka\n",
      "Processing Record 30 of Set 3 : goundam\n",
      "Processing Record 31 of Set 3 : pringsewu\n",
      "Processing Record 32 of Set 3 : cape town\n",
      "Processing Record 33 of Set 3 : massakory\n",
      "Processing Record 34 of Set 3 : codrington\n",
      "Processing Record 35 of Set 3 : karratha\n",
      "Processing Record 36 of Set 3 : mayo\n",
      "Processing Record 37 of Set 3 : mount isa\n",
      "Processing Record 38 of Set 3 : dhankuta\n",
      "Processing Record 39 of Set 3 : kimparana\n",
      "Processing Record 40 of Set 3 : havelock\n",
      "Processing Record 41 of Set 3 : zinder\n",
      "Processing Record 42 of Set 3 : namatanai\n",
      "City not found. Skipping...\n",
      "Processing Record 43 of Set 3 : kinwat\n",
      "Processing Record 44 of Set 3 : ahuimanu\n",
      "Processing Record 45 of Set 3 : villaviciosa\n",
      "Processing Record 46 of Set 3 : yumen\n",
      "Processing Record 47 of Set 3 : tselinnoye\n",
      "Processing Record 48 of Set 3 : omsukchan\n",
      "Processing Record 49 of Set 3 : saskylakh\n",
      "Processing Record 50 of Set 3 : castro\n",
      "City not found. Skipping...\n",
      "Processing Record 0 of Set 4 : tambacounda\n",
      "Processing Record 1 of Set 4 : comodoro rivadavia\n",
      "Processing Record 2 of Set 4 : kibala\n",
      "Processing Record 3 of Set 4 : izyaslav\n",
      "Processing Record 4 of Set 4 : vostok\n",
      "Processing Record 5 of Set 4 : provideniya\n",
      "Processing Record 6 of Set 4 : berezovka\n",
      "Processing Record 7 of Set 4 : kahului\n",
      "Processing Record 8 of Set 4 : chokurdakh\n",
      "Processing Record 9 of Set 4 : saint george\n",
      "Processing Record 10 of Set 4 : san cristobal\n",
      "Processing Record 11 of Set 4 : airai\n",
      "Processing Record 12 of Set 4 : phan thiet\n",
      "Processing Record 13 of Set 4 : gigmoto\n",
      "Processing Record 14 of Set 4 : laurinburg\n",
      "Processing Record 15 of Set 4 : ponta do sol\n",
      "Processing Record 16 of Set 4 : kigoma\n",
      "Processing Record 17 of Set 4 : obidos\n",
      "Processing Record 18 of Set 4 : roald\n",
      "Processing Record 19 of Set 4 : isangel\n",
      "City not found. Skipping...\n",
      "Processing Record 20 of Set 4 : puerto del rosario\n",
      "Processing Record 21 of Set 4 : honiara\n",
      "Processing Record 22 of Set 4 : mahebourg\n",
      "Processing Record 23 of Set 4 : middleton\n",
      "Processing Record 24 of Set 4 : orlik\n",
      "City not found. Skipping...\n",
      "Processing Record 25 of Set 4 : matagami\n",
      "Processing Record 26 of Set 4 : dingle\n",
      "Processing Record 27 of Set 4 : thompson\n",
      "Processing Record 28 of Set 4 : ilebo\n",
      "Processing Record 29 of Set 4 : iacu\n",
      "Processing Record 30 of Set 4 : itarema\n",
      "Processing Record 31 of Set 4 : hibbing\n",
      "Processing Record 32 of Set 4 : college\n",
      "Processing Record 33 of Set 4 : moyale\n",
      "City not found. Skipping...\n",
      "Processing Record 34 of Set 4 : eyl\n"
     ]
    },
    {
     "name": "stdout",
     "output_type": "stream",
     "text": [
      "Processing Record 35 of Set 4 : bosaso\n",
      "Processing Record 36 of Set 4 : kirakira\n",
      "Processing Record 37 of Set 4 : san patricio\n",
      "Processing Record 38 of Set 4 : alikalia\n",
      "Processing Record 39 of Set 4 : amurzet\n",
      "Processing Record 40 of Set 4 : mucurapo\n",
      "Processing Record 41 of Set 4 : pyaozerskiy\n",
      "Processing Record 42 of Set 4 : half moon bay\n",
      "Processing Record 43 of Set 4 : kidal\n",
      "City not found. Skipping...\n",
      "Processing Record 44 of Set 4 : aripuana\n",
      "Processing Record 45 of Set 4 : wilmington\n",
      "Processing Record 46 of Set 4 : kyzyl-suu\n",
      "Processing Record 47 of Set 4 : thurso\n",
      "Processing Record 48 of Set 4 : norman wells\n",
      "Processing Record 49 of Set 4 : amuntai\n",
      "Processing Record 50 of Set 4 : laramie\n",
      "Processing Record 0 of Set 5 : salaga\n",
      "Processing Record 1 of Set 5 : broome\n",
      "Processing Record 2 of Set 5 : port keats\n",
      "Processing Record 3 of Set 5 : yenagoa\n",
      "Processing Record 4 of Set 5 : puerto colombia\n",
      "Processing Record 5 of Set 5 : mount gambier\n",
      "Processing Record 6 of Set 5 : kalabo\n",
      "City not found. Skipping...\n",
      "Processing Record 7 of Set 5 : husavik\n",
      "Processing Record 8 of Set 5 : carnarvon\n",
      "Processing Record 9 of Set 5 : geraldton\n",
      "Processing Record 10 of Set 5 : yuzhno-sukhokumsk\n",
      "Processing Record 11 of Set 5 : nuuk\n",
      "Processing Record 12 of Set 5 : mirnyy\n",
      "Processing Record 13 of Set 5 : san quintin\n",
      "Processing Record 14 of Set 5 : ayan\n",
      "Processing Record 15 of Set 5 : khatanga\n",
      "Processing Record 16 of Set 5 : altamont\n",
      "Processing Record 17 of Set 5 : chicama\n",
      "Processing Record 18 of Set 5 : bethel\n",
      "City not found. Skipping...\n",
      "Processing Record 19 of Set 5 : hofn\n",
      "City not found. Skipping...\n",
      "Processing Record 20 of Set 5 : port elizabeth\n",
      "Processing Record 21 of Set 5 : san ramon\n",
      "Processing Record 22 of Set 5 : port alfred\n",
      "Processing Record 23 of Set 5 : norsup\n",
      "Processing Record 24 of Set 5 : obregon\n",
      "Processing Record 25 of Set 5 : cintalapa\n",
      "Processing Record 26 of Set 5 : wanxian\n",
      "Processing Record 27 of Set 5 : necochea\n",
      "Processing Record 28 of Set 5 : fortuna\n",
      "Processing Record 29 of Set 5 : zaysan\n",
      "Processing Record 30 of Set 5 : dubovka\n",
      "Processing Record 31 of Set 5 : ginda\n",
      "Processing Record 32 of Set 5 : salalah\n",
      "Processing Record 33 of Set 5 : asau\n",
      "Processing Record 34 of Set 5 : atambua\n",
      "Processing Record 35 of Set 5 : maragogi\n",
      "Processing Record 36 of Set 5 : bongouanou\n",
      "Processing Record 37 of Set 5 : kenai\n",
      "City not found. Skipping...\n",
      "Processing Record 38 of Set 5 : ciudad bolivar\n",
      "Processing Record 39 of Set 5 : causapscal\n",
      "Processing Record 40 of Set 5 : aketi\n",
      "Processing Record 41 of Set 5 : caravelas\n",
      "Processing Record 42 of Set 5 : huilong\n",
      "City not found. Skipping...\n",
      "Processing Record 43 of Set 5 : uba\n",
      "Processing Record 44 of Set 5 : dikson\n",
      "Processing Record 45 of Set 5 : mocuba\n",
      "Processing Record 46 of Set 5 : yulara\n",
      "Processing Record 47 of Set 5 : abbeville\n",
      "Processing Record 48 of Set 5 : north myrtle beach\n",
      "Processing Record 49 of Set 5 : wanning\n",
      "Processing Record 50 of Set 5 : jumla\n",
      "Processing Record 0 of Set 6 : korla\n",
      "Processing Record 1 of Set 6 : barcelos\n",
      "City not found. Skipping...\n",
      "Processing Record 2 of Set 6 : sucua\n",
      "Processing Record 3 of Set 6 : toowoomba\n",
      "Processing Record 4 of Set 6 : marsh harbour\n",
      "Processing Record 5 of Set 6 : zhezkazgan\n",
      "Processing Record 6 of Set 6 : dunedin\n",
      "Processing Record 7 of Set 6 : cherskiy\n",
      "Processing Record 8 of Set 6 : ilulissat\n",
      "Processing Record 9 of Set 6 : kamsack\n",
      "Processing Record 10 of Set 6 : viedma\n",
      "Processing Record 11 of Set 6 : sistranda\n",
      "City not found. Skipping...\n",
      "Processing Record 12 of Set 6 : atherton\n",
      "Processing Record 13 of Set 6 : sao joao da barra\n",
      "Processing Record 14 of Set 6 : oistins\n",
      "Processing Record 15 of Set 6 : ardakan\n",
      "Processing Record 16 of Set 6 : sokolo\n",
      "Processing Record 17 of Set 6 : stephenville\n",
      "Processing Record 18 of Set 6 : bonavista\n",
      "Processing Record 19 of Set 6 : valparaiso\n",
      "Processing Record 20 of Set 6 : mikuni\n",
      "Processing Record 21 of Set 6 : mishkino\n",
      "Processing Record 22 of Set 6 : narsaq\n",
      "Processing Record 23 of Set 6 : bathsheba\n",
      "Processing Record 24 of Set 6 : tombouctou\n",
      "Processing Record 25 of Set 6 : udachnyy\n",
      "Processing Record 26 of Set 6 : south sioux city\n",
      "Processing Record 27 of Set 6 : safaga\n",
      "Processing Record 28 of Set 6 : bengkulu\n",
      "Processing Record 29 of Set 6 : belaya gora\n",
      "Processing Record 30 of Set 6 : gusau\n",
      "Processing Record 31 of Set 6 : imeni poliny osipenko\n",
      "Processing Record 32 of Set 6 : dauriya\n",
      "Processing Record 33 of Set 6 : naze\n",
      "Processing Record 34 of Set 6 : kieta\n",
      "Processing Record 35 of Set 6 : kurumkan\n",
      "Processing Record 36 of Set 6 : carnduff\n",
      "Processing Record 37 of Set 6 : gizo\n",
      "Processing Record 38 of Set 6 : vila franca do campo\n",
      "Processing Record 39 of Set 6 : yilan\n",
      "Processing Record 40 of Set 6 : trairi\n",
      "Processing Record 41 of Set 6 : katsuura\n",
      "Processing Record 42 of Set 6 : grand gaube\n",
      "Processing Record 43 of Set 6 : santa maria\n",
      "Processing Record 44 of Set 6 : palauig\n",
      "Processing Record 45 of Set 6 : oxbow\n",
      "Processing Record 46 of Set 6 : maues\n",
      "Processing Record 47 of Set 6 : taylorville\n",
      "Processing Record 48 of Set 6 : tucuman\n",
      "City not found. Skipping...\n",
      "Processing Record 49 of Set 6 : malm\n",
      "Processing Record 50 of Set 6 : crib point\n",
      "Processing Record 0 of Set 7 : port-gentil\n",
      "Processing Record 1 of Set 7 : srednekolymsk\n",
      "Processing Record 2 of Set 7 : klaksvik\n",
      "Processing Record 3 of Set 7 : blois\n",
      "Processing Record 4 of Set 7 : clyde river\n",
      "Processing Record 5 of Set 7 : pozo colorado\n",
      "Processing Record 6 of Set 7 : salekhard\n",
      "Processing Record 7 of Set 7 : atar\n",
      "Processing Record 8 of Set 7 : labuhan\n",
      "Processing Record 9 of Set 7 : rawson\n",
      "Processing Record 10 of Set 7 : oytal\n",
      "Processing Record 11 of Set 7 : madimba\n",
      "City not found. Skipping...\n",
      "Processing Record 12 of Set 7 : touros\n",
      "City not found. Skipping...\n",
      "Processing Record 13 of Set 7 : kavieng\n",
      "Processing Record 14 of Set 7 : olafsvik\n",
      "Processing Record 15 of Set 7 : rio gallegos\n",
      "Processing Record 16 of Set 7 : lavrentiya\n",
      "Processing Record 17 of Set 7 : flinders\n",
      "Processing Record 18 of Set 7 : margate\n",
      "Processing Record 19 of Set 7 : tambura\n",
      "Processing Record 20 of Set 7 : soe\n",
      "Processing Record 21 of Set 7 : sayyan\n",
      "Processing Record 22 of Set 7 : fort nelson\n",
      "Processing Record 23 of Set 7 : kihei\n",
      "Processing Record 24 of Set 7 : tarata\n",
      "Processing Record 25 of Set 7 : mzimba\n",
      "Processing Record 26 of Set 7 : blacksburg\n",
      "Processing Record 27 of Set 7 : ambon\n",
      "Processing Record 28 of Set 7 : chardara\n",
      "City not found. Skipping...\n",
      "Processing Record 29 of Set 7 : kavaratti\n",
      "City not found. Skipping...\n",
      "Processing Record 30 of Set 7 : nabire\n",
      "Processing Record 31 of Set 7 : ostrovnoy\n",
      "Processing Record 32 of Set 7 : coihaique\n",
      "City not found. Skipping...\n",
      "Processing Record 33 of Set 7 : wasilla\n",
      "Processing Record 34 of Set 7 : iqaluit\n",
      "Processing Record 35 of Set 7 : nalut\n",
      "Processing Record 36 of Set 7 : ust-nera\n",
      "Processing Record 37 of Set 7 : biak\n",
      "Processing Record 38 of Set 7 : barcelona\n",
      "Processing Record 39 of Set 7 : tucurui\n",
      "City not found. Skipping...\n",
      "City not found. Skipping...\n",
      "Processing Record 40 of Set 7 : heze\n",
      "Processing Record 41 of Set 7 : alma\n",
      "Processing Record 42 of Set 7 : puerto escondido\n",
      "Processing Record 43 of Set 7 : shushenskoye\n",
      "Processing Record 44 of Set 7 : vilhena\n",
      "Processing Record 45 of Set 7 : porosozero\n",
      "Processing Record 46 of Set 7 : nueva concepcion\n",
      "Processing Record 47 of Set 7 : krikellos\n",
      "Processing Record 48 of Set 7 : sens\n",
      "Processing Record 49 of Set 7 : gazanjyk\n",
      "Processing Record 50 of Set 7 : longonjo\n",
      "Processing Record 0 of Set 8 : civitavecchia\n",
      "Processing Record 1 of Set 8 : namibe\n",
      "Processing Record 2 of Set 8 : tabou\n",
      "Processing Record 3 of Set 8 : agadir\n",
      "City not found. Skipping...\n",
      "Processing Record 4 of Set 8 : ixtapa\n",
      "Processing Record 5 of Set 8 : dakar\n",
      "Processing Record 6 of Set 8 : torbay\n",
      "Processing Record 7 of Set 8 : nouakchott\n",
      "Processing Record 8 of Set 8 : okato\n",
      "Processing Record 9 of Set 8 : inza\n",
      "Processing Record 10 of Set 8 : leh\n",
      "Processing Record 11 of Set 8 : ulladulla\n",
      "Processing Record 12 of Set 8 : gawler\n",
      "Processing Record 13 of Set 8 : tukums\n",
      "Processing Record 14 of Set 8 : dwarka\n",
      "City not found. Skipping...\n",
      "Processing Record 15 of Set 8 : mehamn\n",
      "Processing Record 16 of Set 8 : morros\n",
      "Processing Record 17 of Set 8 : bhimavaram\n",
      "Processing Record 18 of Set 8 : berdigestyakh\n",
      "Processing Record 19 of Set 8 : haines junction\n"
     ]
    },
    {
     "name": "stdout",
     "output_type": "stream",
     "text": [
      "Processing Record 20 of Set 8 : alice springs\n",
      "Processing Record 21 of Set 8 : krasnoselkup\n",
      "Processing Record 22 of Set 8 : punta alta\n",
      "Processing Record 23 of Set 8 : langsa\n",
      "Processing Record 24 of Set 8 : shenjiamen\n",
      "Processing Record 25 of Set 8 : darnah\n",
      "Processing Record 26 of Set 8 : lata\n",
      "Processing Record 27 of Set 8 : cockburn town\n",
      "Processing Record 28 of Set 8 : les cayes\n",
      "Processing Record 29 of Set 8 : teluknaga\n",
      "Processing Record 30 of Set 8 : lokoja\n",
      "Processing Record 31 of Set 8 : picos\n",
      "Processing Record 32 of Set 8 : hatillo\n",
      "Processing Record 33 of Set 8 : ko samui\n",
      "Processing Record 34 of Set 8 : taft\n",
      "Processing Record 35 of Set 8 : sola\n",
      "Processing Record 36 of Set 8 : pisco\n",
      "Processing Record 37 of Set 8 : mizan teferi\n",
      "Processing Record 38 of Set 8 : kargil\n",
      "Processing Record 39 of Set 8 : tura\n",
      "City not found. Skipping...\n",
      "Processing Record 40 of Set 8 : tautira\n",
      "Processing Record 41 of Set 8 : japura\n",
      "Processing Record 42 of Set 8 : paamiut\n",
      "Processing Record 43 of Set 8 : bima\n",
      "Processing Record 44 of Set 8 : kampong chhnang\n",
      "Processing Record 45 of Set 8 : trinidad\n",
      "Processing Record 46 of Set 8 : honningsvag\n",
      "Processing Record 47 of Set 8 : umm kaddadah\n",
      "Processing Record 48 of Set 8 : saldanha\n",
      "Processing Record 49 of Set 8 : chinsali\n",
      "Processing Record 50 of Set 8 : polunochnoye\n",
      "Processing Record 0 of Set 9 : winnemucca\n",
      "Processing Record 1 of Set 9 : saint-francois\n",
      "Processing Record 2 of Set 9 : gornopravdinsk\n",
      "Processing Record 3 of Set 9 : isla vista\n",
      "Processing Record 4 of Set 9 : diffa\n",
      "Processing Record 5 of Set 9 : nieuw amsterdam\n",
      "Processing Record 6 of Set 9 : bumba\n",
      "Processing Record 7 of Set 9 : muros\n",
      "Processing Record 8 of Set 9 : bay roberts\n",
      "City not found. Skipping...\n",
      "Processing Record 9 of Set 9 : drumheller\n",
      "Processing Record 10 of Set 9 : osa\n",
      "Processing Record 11 of Set 9 : craig\n",
      "Processing Record 12 of Set 9 : carbonia\n",
      "Processing Record 13 of Set 9 : senneterre\n",
      "Processing Record 14 of Set 9 : xai-xai\n",
      "Processing Record 15 of Set 9 : leningradskiy\n",
      "Processing Record 16 of Set 9 : masvingo\n",
      "Processing Record 17 of Set 9 : vera cruz\n",
      "Processing Record 18 of Set 9 : muisne\n",
      "Processing Record 19 of Set 9 : islamkot\n",
      "Processing Record 20 of Set 9 : bhola\n",
      "Processing Record 21 of Set 9 : sukumo\n",
      "Processing Record 22 of Set 9 : ranong\n",
      "Processing Record 23 of Set 9 : matay\n",
      "Processing Record 24 of Set 9 : chapais\n",
      "Processing Record 25 of Set 9 : washington\n",
      "City not found. Skipping...\n",
      "Processing Record 26 of Set 9 : najran\n",
      "City not found. Skipping...\n",
      "Processing Record 27 of Set 9 : paraiba do sul\n",
      "Processing Record 28 of Set 9 : wanaka\n",
      "Processing Record 29 of Set 9 : port moresby\n",
      "Processing Record 30 of Set 9 : monrovia\n",
      "Processing Record 31 of Set 9 : vao\n",
      "Processing Record 32 of Set 9 : banepa\n",
      "Processing Record 33 of Set 9 : nusaybin\n",
      "Processing Record 34 of Set 9 : ibra\n",
      "Processing Record 35 of Set 9 : skibbereen\n",
      "Processing Record 36 of Set 9 : ayni\n",
      "Processing Record 37 of Set 9 : san luis\n",
      "Processing Record 38 of Set 9 : aksu\n",
      "Processing Record 39 of Set 9 : saint-joseph\n",
      "Processing Record 40 of Set 9 : henties bay\n",
      "Processing Record 41 of Set 9 : ilawe\n",
      "City not found. Skipping...\n",
      "Processing Record 42 of Set 9 : ruteng\n",
      "Processing Record 43 of Set 9 : progreso\n",
      "Processing Record 44 of Set 9 : mindelo\n",
      "Processing Record 45 of Set 9 : havre-saint-pierre\n",
      "Processing Record 46 of Set 9 : hualmay\n",
      "Processing Record 47 of Set 9 : brae\n",
      "Processing Record 48 of Set 9 : zhigansk\n",
      "Processing Record 49 of Set 9 : saint-augustin\n",
      "Processing Record 50 of Set 9 : lagoa\n",
      "Processing Record 0 of Set 10 : ust-tsilma\n",
      "Processing Record 1 of Set 10 : beira\n",
      "Processing Record 2 of Set 10 : los llanos de aridane\n",
      "Processing Record 3 of Set 10 : zabol\n",
      "Processing Record 4 of Set 10 : ode\n",
      "Processing Record 5 of Set 10 : sharanga\n",
      "Processing Record 6 of Set 10 : mpwapwa\n",
      "Processing Record 7 of Set 10 : atbasar\n",
      "Processing Record 8 of Set 10 : sandwick\n",
      "Processing Record 9 of Set 10 : sembakung\n",
      "City not found. Skipping...\n",
      "Processing Record 10 of Set 10 : kingisepp\n",
      "Processing Record 11 of Set 10 : samarai\n",
      "Processing Record 12 of Set 10 : nyanza\n",
      "Processing Record 13 of Set 10 : slovenske konjice\n",
      "Processing Record 14 of Set 10 : fairbanks\n",
      "Processing Record 15 of Set 10 : chumikan\n",
      "Processing Record 16 of Set 10 : stromness\n",
      "Processing Record 17 of Set 10 : loreto\n",
      "Processing Record 18 of Set 10 : khromtau\n",
      "Processing Record 19 of Set 10 : thayetmyo\n",
      "Processing Record 20 of Set 10 : porto santo\n",
      "City not found. Skipping...\n",
      "Processing Record 21 of Set 10 : mandera\n",
      "Processing Record 22 of Set 10 : sigayevo\n",
      "Processing Record 23 of Set 10 : nome\n",
      "Processing Record 24 of Set 10 : komsomolskiy\n",
      "Processing Record 25 of Set 10 : khartoum\n",
      "Processing Record 26 of Set 10 : whitehorse\n",
      "Processing Record 27 of Set 10 : vega de alatorre\n",
      "Processing Record 28 of Set 10 : boyolangu\n",
      "Processing Record 29 of Set 10 : calama\n",
      "Processing Record 30 of Set 10 : rocha\n",
      "Processing Record 31 of Set 10 : boca do acre\n",
      "Processing Record 32 of Set 10 : coolum beach\n",
      "Processing Record 33 of Set 10 : abashiri\n",
      "City not found. Skipping...\n",
      "Processing Record 34 of Set 10 : loukhi\n",
      "Processing Record 35 of Set 10 : hauknes\n",
      "Processing Record 36 of Set 10 : san jeronimo\n",
      "Processing Record 37 of Set 10 : taoudenni\n",
      "Processing Record 38 of Set 10 : hervey bay\n",
      "Processing Record 39 of Set 10 : guerrero negro\n",
      "Processing Record 40 of Set 10 : padang\n",
      "Processing Record 41 of Set 10 : villanueva\n",
      "City not found. Skipping...\n",
      "Processing Record 42 of Set 10 : vondrozo\n",
      "Processing Record 43 of Set 10 : rudnichnyy\n",
      "Processing Record 44 of Set 10 : hobyo\n",
      "Processing Record 45 of Set 10 : virginia beach\n",
      "Processing Record 46 of Set 10 : kismayo\n",
      "Processing Record 47 of Set 10 : manzhouli\n",
      "Processing Record 48 of Set 10 : puerto el triunfo\n",
      "Processing Record 49 of Set 10 : muzhi\n",
      "Processing Record 50 of Set 10 : paragominas\n",
      "City not found. Skipping...\n",
      "Processing Record 0 of Set 11 : caconda\n",
      "Processing Record 1 of Set 11 : karabuk\n",
      "Processing Record 2 of Set 11 : ilabaya\n",
      "Processing Record 3 of Set 11 : bollnas\n",
      "City not found. Skipping...\n",
      "Processing Record 4 of Set 11 : waingapu\n",
      "Processing Record 5 of Set 11 : north bend\n",
      "Processing Record 6 of Set 11 : pointe michel\n",
      "City not found. Skipping...\n",
      "Processing Record 7 of Set 11 : partapur\n",
      "Processing Record 8 of Set 11 : la asuncion\n",
      "Processing Record 9 of Set 11 : arlit\n",
      "Processing Record 10 of Set 11 : prijepolje\n",
      "Processing Record 11 of Set 11 : fillmore\n",
      "City not found. Skipping...\n",
      "Processing Record 12 of Set 11 : kuryk\n",
      "Processing Record 13 of Set 11 : kaseda\n",
      "Processing Record 14 of Set 11 : punalur\n",
      "Processing Record 15 of Set 11 : sovetskiy\n",
      "Processing Record 16 of Set 11 : manggar\n",
      "Processing Record 17 of Set 11 : lubango\n",
      "Processing Record 18 of Set 11 : torrington\n",
      "Processing Record 19 of Set 11 : pathein\n",
      "Processing Record 20 of Set 11 : gainesville\n",
      "Processing Record 21 of Set 11 : ishigaki\n",
      "Processing Record 22 of Set 11 : hengyang\n",
      "Processing Record 23 of Set 11 : berlevag\n",
      "Processing Record 24 of Set 11 : lydenburg\n",
      "Processing Record 25 of Set 11 : nyurba\n",
      "Processing Record 26 of Set 11 : riobamba\n",
      "Processing Record 27 of Set 11 : sucre\n",
      "Processing Record 28 of Set 11 : litovko\n",
      "Processing Record 29 of Set 11 : mgachi\n",
      "Processing Record 30 of Set 11 : rosarno\n",
      "Processing Record 31 of Set 11 : cidreira\n",
      "Processing Record 32 of Set 11 : bagnols-sur-ceze\n",
      "Processing Record 33 of Set 11 : belle fourche\n",
      "Processing Record 34 of Set 11 : arman\n",
      "Processing Record 35 of Set 11 : ambulu\n",
      "Processing Record 36 of Set 11 : hammerfest\n",
      "Processing Record 37 of Set 11 : shubarshi\n",
      "Processing Record 38 of Set 11 : morondava\n",
      "City not found. Skipping...\n",
      "Processing Record 39 of Set 11 : jati\n",
      "Processing Record 40 of Set 11 : lingao\n",
      "Processing Record 41 of Set 11 : houma\n",
      "-----------------------------\n",
      "Data Retrieval Complete\n",
      "-----------------------------\n"
     ]
    }
   ],
   "source": [
    "city_name_list = []\n",
    "cloudiness_list = []\n",
    "country_list = []\n",
    "date_list = []\n",
    "humidity_list = []\n",
    "lat_list = []\n",
    "lng_list = []\n",
    "max_temp_list = []\n",
    "wind_speed_list = []\n",
    "index_counter = 0\n",
    "set_counter = 1\n",
    "\n",
    "base_url = \"http://api.openweathermap.org/data/2.5/weather?\"\n",
    "units = \"imperial\"\n",
    "query_url = f\"{base_url}appid={weather_api_key}&units={units}&q=\"\n",
    "print(query_url)\n",
    "\n",
    "\n",
    "\n",
    "for city in cities:\n",
    "    try:\n",
    "        response = requests.get(query_url + city).json()\n",
    "        city_name_list.append(response[\"name\"])\n",
    "        cloudiness_list.append(response[\"clouds\"][\"all\"])\n",
    "        country_list.append(response[\"sys\"][\"country\"])\n",
    "        date_list.append(response[\"dt\"])\n",
    "        humidity_list.append(response[\"main\"][\"humidity\"])\n",
    "        lat_list.append(response[\"coord\"][\"lat\"])\n",
    "        lng_list.append(response[\"coord\"][\"lon\"])\n",
    "        max_temp_list.append(response['main']['temp_max'])\n",
    "        wind_speed_list.append(response[\"wind\"][\"speed\"])\n",
    "        if index_counter > 49:\n",
    "            index_counter = 0\n",
    "            set_counter = set_counter + 1\n",
    "    \n",
    "        else:\n",
    "            index_counter = index_counter + 1\n",
    "            \n",
    "        print(f\"Processing Record {index_counter} of Set {set_counter} : {city}\") \n",
    "  \n",
    "    except(KeyError, IndexError):\n",
    "        print(\"City not found. Skipping...\")\n",
    "\n",
    "print(\"-----------------------------\")\n",
    "print(\"Data Retrieval Complete\")\n",
    "print(\"-----------------------------\")\n",
    "    "
   ]
  },
  {
   "cell_type": "code",
   "execution_count": null,
   "id": "e9f82e93",
   "metadata": {},
   "outputs": [],
   "source": [
    "Convert Raw Data to DataFrame\n",
    "Export the city data into a .csv.\n",
    "Display the DataFrame\n",
    "   \n"
   ]
  },
  {
   "cell_type": "code",
   "execution_count": 27,
   "id": "175a144e",
   "metadata": {},
   "outputs": [
    {
     "data": {
      "text/html": [
       "<div>\n",
       "<style scoped>\n",
       "    .dataframe tbody tr th:only-of-type {\n",
       "        vertical-align: middle;\n",
       "    }\n",
       "\n",
       "    .dataframe tbody tr th {\n",
       "        vertical-align: top;\n",
       "    }\n",
       "\n",
       "    .dataframe thead th {\n",
       "        text-align: right;\n",
       "    }\n",
       "</style>\n",
       "<table border=\"1\" class=\"dataframe\">\n",
       "  <thead>\n",
       "    <tr style=\"text-align: right;\">\n",
       "      <th></th>\n",
       "      <th>City</th>\n",
       "      <th>Cloudiness</th>\n",
       "      <th>Country</th>\n",
       "      <th>Date</th>\n",
       "      <th>Humidity</th>\n",
       "      <th>Lat</th>\n",
       "      <th>Lng</th>\n",
       "      <th>Max Temp</th>\n",
       "      <th>Wind Speed</th>\n",
       "    </tr>\n",
       "  </thead>\n",
       "  <tbody>\n",
       "    <tr>\n",
       "      <th>0</th>\n",
       "      <td>Cabo San Lucas</td>\n",
       "      <td>57</td>\n",
       "      <td>MX</td>\n",
       "      <td>1632001931</td>\n",
       "      <td>71</td>\n",
       "      <td>22.8909</td>\n",
       "      <td>-109.9124</td>\n",
       "      <td>92.80</td>\n",
       "      <td>10.51</td>\n",
       "    </tr>\n",
       "    <tr>\n",
       "      <th>1</th>\n",
       "      <td>Vaini</td>\n",
       "      <td>75</td>\n",
       "      <td>TO</td>\n",
       "      <td>1632002209</td>\n",
       "      <td>94</td>\n",
       "      <td>-21.2000</td>\n",
       "      <td>-175.2000</td>\n",
       "      <td>75.36</td>\n",
       "      <td>6.91</td>\n",
       "    </tr>\n",
       "    <tr>\n",
       "      <th>2</th>\n",
       "      <td>Nemuro</td>\n",
       "      <td>83</td>\n",
       "      <td>JP</td>\n",
       "      <td>1632002210</td>\n",
       "      <td>94</td>\n",
       "      <td>43.3236</td>\n",
       "      <td>145.5750</td>\n",
       "      <td>59.23</td>\n",
       "      <td>16.44</td>\n",
       "    </tr>\n",
       "    <tr>\n",
       "      <th>3</th>\n",
       "      <td>Mataura</td>\n",
       "      <td>100</td>\n",
       "      <td>NZ</td>\n",
       "      <td>1632002210</td>\n",
       "      <td>92</td>\n",
       "      <td>-46.1927</td>\n",
       "      <td>168.8643</td>\n",
       "      <td>44.47</td>\n",
       "      <td>4.79</td>\n",
       "    </tr>\n",
       "    <tr>\n",
       "      <th>4</th>\n",
       "      <td>Bluff</td>\n",
       "      <td>100</td>\n",
       "      <td>NZ</td>\n",
       "      <td>1632002210</td>\n",
       "      <td>78</td>\n",
       "      <td>-46.6000</td>\n",
       "      <td>168.3333</td>\n",
       "      <td>44.80</td>\n",
       "      <td>12.08</td>\n",
       "    </tr>\n",
       "  </tbody>\n",
       "</table>\n",
       "</div>"
      ],
      "text/plain": [
       "             City  Cloudiness Country        Date  Humidity      Lat  \\\n",
       "0  Cabo San Lucas          57      MX  1632001931        71  22.8909   \n",
       "1           Vaini          75      TO  1632002209        94 -21.2000   \n",
       "2          Nemuro          83      JP  1632002210        94  43.3236   \n",
       "3         Mataura         100      NZ  1632002210        92 -46.1927   \n",
       "4           Bluff         100      NZ  1632002210        78 -46.6000   \n",
       "\n",
       "        Lng  Max Temp  Wind Speed  \n",
       "0 -109.9124     92.80       10.51  \n",
       "1 -175.2000     75.36        6.91  \n",
       "2  145.5750     59.23       16.44  \n",
       "3  168.8643     44.47        4.79  \n",
       "4  168.3333     44.80       12.08  "
      ]
     },
     "execution_count": 27,
     "metadata": {},
     "output_type": "execute_result"
    }
   ],
   "source": [
    "weather_df = pd.DataFrame({\"City\" : city_name_list,\n",
    "                \"Cloudiness\" : cloudiness_list,\n",
    "                \"Country\" : country_list,\n",
    "                \"Date\" : date_list,\n",
    "                \"Humidity\" : humidity_list,\n",
    "                \"Lat\" : lat_list,\n",
    "                \"Lng\" : lng_list,\n",
    "                \"Max Temp\" : max_temp_list,\n",
    "                \"Wind Speed\" : wind_speed_list\n",
    "    \n",
    "})\n",
    "weather_df.head()"
   ]
  },
  {
   "cell_type": "code",
   "execution_count": 29,
   "id": "37f99bee",
   "metadata": {},
   "outputs": [
    {
     "data": {
      "text/plain": [
       "City          551\n",
       "Cloudiness    551\n",
       "Country       551\n",
       "Date          551\n",
       "Humidity      551\n",
       "Lat           551\n",
       "Lng           551\n",
       "Max Temp      551\n",
       "Wind Speed    551\n",
       "dtype: int64"
      ]
     },
     "execution_count": 29,
     "metadata": {},
     "output_type": "execute_result"
    }
   ],
   "source": [
    "#Count data\n",
    "weather_df.count()"
   ]
  },
  {
   "cell_type": "code",
   "execution_count": 31,
   "id": "05cb75b2",
   "metadata": {},
   "outputs": [
    {
     "data": {
      "text/html": [
       "<div>\n",
       "<style scoped>\n",
       "    .dataframe tbody tr th:only-of-type {\n",
       "        vertical-align: middle;\n",
       "    }\n",
       "\n",
       "    .dataframe tbody tr th {\n",
       "        vertical-align: top;\n",
       "    }\n",
       "\n",
       "    .dataframe thead th {\n",
       "        text-align: right;\n",
       "    }\n",
       "</style>\n",
       "<table border=\"1\" class=\"dataframe\">\n",
       "  <thead>\n",
       "    <tr style=\"text-align: right;\">\n",
       "      <th></th>\n",
       "      <th>Cloudiness</th>\n",
       "      <th>Date</th>\n",
       "      <th>Humidity</th>\n",
       "      <th>Lat</th>\n",
       "      <th>Lng</th>\n",
       "      <th>Max Temp</th>\n",
       "      <th>Wind Speed</th>\n",
       "    </tr>\n",
       "  </thead>\n",
       "  <tbody>\n",
       "    <tr>\n",
       "      <th>count</th>\n",
       "      <td>551.000000</td>\n",
       "      <td>5.510000e+02</td>\n",
       "      <td>551.000000</td>\n",
       "      <td>551.000000</td>\n",
       "      <td>551.000000</td>\n",
       "      <td>551.000000</td>\n",
       "      <td>551.000000</td>\n",
       "    </tr>\n",
       "    <tr>\n",
       "      <th>mean</th>\n",
       "      <td>54.132486</td>\n",
       "      <td>1.632002e+09</td>\n",
       "      <td>71.462795</td>\n",
       "      <td>19.699379</td>\n",
       "      <td>15.605049</td>\n",
       "      <td>65.954882</td>\n",
       "      <td>8.115789</td>\n",
       "    </tr>\n",
       "    <tr>\n",
       "      <th>std</th>\n",
       "      <td>38.395249</td>\n",
       "      <td>1.379940e+02</td>\n",
       "      <td>21.046571</td>\n",
       "      <td>32.794740</td>\n",
       "      <td>89.015126</td>\n",
       "      <td>16.738054</td>\n",
       "      <td>5.647387</td>\n",
       "    </tr>\n",
       "    <tr>\n",
       "      <th>min</th>\n",
       "      <td>0.000000</td>\n",
       "      <td>1.632002e+09</td>\n",
       "      <td>2.000000</td>\n",
       "      <td>-54.800000</td>\n",
       "      <td>-175.200000</td>\n",
       "      <td>12.360000</td>\n",
       "      <td>0.000000</td>\n",
       "    </tr>\n",
       "    <tr>\n",
       "      <th>25%</th>\n",
       "      <td>13.000000</td>\n",
       "      <td>1.632002e+09</td>\n",
       "      <td>63.500000</td>\n",
       "      <td>-6.980650</td>\n",
       "      <td>-61.803450</td>\n",
       "      <td>54.535000</td>\n",
       "      <td>3.725000</td>\n",
       "    </tr>\n",
       "    <tr>\n",
       "      <th>50%</th>\n",
       "      <td>61.000000</td>\n",
       "      <td>1.632002e+09</td>\n",
       "      <td>76.000000</td>\n",
       "      <td>21.461200</td>\n",
       "      <td>17.944200</td>\n",
       "      <td>70.180000</td>\n",
       "      <td>6.780000</td>\n",
       "    </tr>\n",
       "    <tr>\n",
       "      <th>75%</th>\n",
       "      <td>92.500000</td>\n",
       "      <td>1.632003e+09</td>\n",
       "      <td>87.000000</td>\n",
       "      <td>47.541700</td>\n",
       "      <td>86.740100</td>\n",
       "      <td>79.115000</td>\n",
       "      <td>11.285000</td>\n",
       "    </tr>\n",
       "    <tr>\n",
       "      <th>max</th>\n",
       "      <td>100.000000</td>\n",
       "      <td>1.632003e+09</td>\n",
       "      <td>100.000000</td>\n",
       "      <td>78.218600</td>\n",
       "      <td>179.316700</td>\n",
       "      <td>99.930000</td>\n",
       "      <td>31.470000</td>\n",
       "    </tr>\n",
       "  </tbody>\n",
       "</table>\n",
       "</div>"
      ],
      "text/plain": [
       "       Cloudiness          Date    Humidity         Lat         Lng  \\\n",
       "count  551.000000  5.510000e+02  551.000000  551.000000  551.000000   \n",
       "mean    54.132486  1.632002e+09   71.462795   19.699379   15.605049   \n",
       "std     38.395249  1.379940e+02   21.046571   32.794740   89.015126   \n",
       "min      0.000000  1.632002e+09    2.000000  -54.800000 -175.200000   \n",
       "25%     13.000000  1.632002e+09   63.500000   -6.980650  -61.803450   \n",
       "50%     61.000000  1.632002e+09   76.000000   21.461200   17.944200   \n",
       "75%     92.500000  1.632003e+09   87.000000   47.541700   86.740100   \n",
       "max    100.000000  1.632003e+09  100.000000   78.218600  179.316700   \n",
       "\n",
       "         Max Temp  Wind Speed  \n",
       "count  551.000000  551.000000  \n",
       "mean    65.954882    8.115789  \n",
       "std     16.738054    5.647387  \n",
       "min     12.360000    0.000000  \n",
       "25%     54.535000    3.725000  \n",
       "50%     70.180000    6.780000  \n",
       "75%     79.115000   11.285000  \n",
       "max     99.930000   31.470000  "
      ]
     },
     "execution_count": 31,
     "metadata": {},
     "output_type": "execute_result"
    }
   ],
   "source": [
    "weather_df.describe()"
   ]
  },
  {
   "cell_type": "code",
   "execution_count": 33,
   "id": "641e5971",
   "metadata": {},
   "outputs": [],
   "source": [
    "weather_df.to_csv(\"cities.csv\", index = False)"
   ]
  },
  {
   "cell_type": "code",
   "execution_count": 34,
   "id": "97865165",
   "metadata": {},
   "outputs": [
    {
     "ename": "SyntaxError",
     "evalue": "invalid syntax (<ipython-input-34-a8731d9126ce>, line 1)",
     "output_type": "error",
     "traceback": [
      "\u001b[1;36m  File \u001b[1;32m\"<ipython-input-34-a8731d9126ce>\"\u001b[1;36m, line \u001b[1;32m1\u001b[0m\n\u001b[1;33m    Plotting the Data\u001b[0m\n\u001b[1;37m             ^\u001b[0m\n\u001b[1;31mSyntaxError\u001b[0m\u001b[1;31m:\u001b[0m invalid syntax\n"
     ]
    }
   ],
   "source": [
    " Plotting the Data\n",
    "\n",
    "Use proper labeling of the plots using plot titles (including date of analysis) and axes labels.\n",
    "Save the plotted figures as .pngs."
   ]
  },
  {
   "cell_type": "code",
   "execution_count": 37,
   "id": "fa3146ef",
   "metadata": {},
   "outputs": [
    {
     "data": {
      "image/png": "[encoded data removed]",
      "text/plain": [
       "<Figure size 432x288 with 1 Axes>"
      ]
     },
     "metadata": {
      "needs_background": "light"
     },
     "output_type": "display_data"
    }
   ],
   "source": [
    "#Latitude vs. Temperature Plot\n",
    "\n",
    " #Create Latitude vs. Temperature Plot scatter plot\n",
    "    \n",
    "plt.scatter(weather_df['Lat'],weather_df['Max Temp'],facecolor = \"steelblue\")\n",
    "plt.title(\"City Latitude vs Temperature\")\n",
    "# Set x axis label\n",
    "plt.xlabel(\"Laitude\")\n",
    "\n",
    "# Set y axis label\n",
    "plt.ylabel(\"Max Temperature (F)\")\n",
    "\n",
    "# Save the plotted figure as .pngs\n",
    "plt.savefig(\"City Latitude vs Max Temperature.png\")\n"
   ]
  },
  {
   "cell_type": "code",
   "execution_count": 39,
   "id": "96c619a7",
   "metadata": {},
   "outputs": [
    {
     "data": {
      "image/png": "[encoded data removed]",
      "text/plain": [
       "<Figure size 432x288 with 1 Axes>"
      ]
     },
     "metadata": {
      "needs_background": "light"
     },
     "output_type": "display_data"
    }
   ],
   "source": [
    "#  Latitude vs. Humidity Plot\n",
    "\n",
    "plt.scatter(weather_df['Lat'],weather_df['Humidity'],facecolor = \"steelblue\")\n",
    "plt.title(\"City Latitude vs Humidity\")\n",
    "# Set x axis label\n",
    "plt.xlabel(\"Laitude\")\n",
    "\n",
    "# Set y axis label\n",
    "plt.ylabel(\"Humidity %\")\n",
    "\n",
    "# Save the plotted figure as .pngs\n",
    "plt.savefig(\"City Latitude vs Humidity.png\")\n",
    "\n"
   ]
  },
  {
   "cell_type": "code",
   "execution_count": 41,
   "id": "eacc4cad",
   "metadata": {},
   "outputs": [
    {
     "data": {
      "image/png": "[encoded data removed]",
      "text/plain": [
       "<Figure size 432x288 with 1 Axes>"
      ]
     },
     "metadata": {
      "needs_background": "light"
     },
     "output_type": "display_data"
    }
   ],
   "source": [
    "#Latitude vs. Cloudiness Plot\n",
    "plt.scatter(weather_df['Lat'],weather_df['Cloudiness'],facecolor = \"steelblue\")\n",
    "plt.title(\"City Latitude vs Cloudiness\")\n",
    "# Set x axis label\n",
    "plt.xlabel(\"Laitude\")\n",
    "\n",
    "# Set y axis label\n",
    "plt.ylabel(\"Cloudiness\")\n",
    "\n",
    "# Save the plotted figure as .pngs\n",
    "plt.savefig(\"City Latitude vs Cloudiness.png\")\n",
    "\n"
   ]
  },
  {
   "cell_type": "code",
   "execution_count": 43,
   "id": "c6ba3491",
   "metadata": {},
   "outputs": [
    {
     "data": {
      "image/png": "[encoded data removed]",
      "text/plain": [
       "<Figure size 432x288 with 1 Axes>"
      ]
     },
     "metadata": {
      "needs_background": "light"
     },
     "output_type": "display_data"
    }
   ],
   "source": [
    "#Latitude vs. Wind Speed Plot\n",
    "\n",
    "plt.scatter(weather_df['Lat'],weather_df['Wind Speed'],facecolor = \"steelblue\")\n",
    "plt.title(\"City Latitude vs Wind Speed\")\n",
    "# Set x axis label\n",
    "plt.xlabel(\"Laitude\")\n",
    "\n",
    "# Set y axis label\n",
    "plt.ylabel(\"Wind Speed\")\n",
    "\n",
    "# Save the plotted figure as .pngs\n",
    "plt.savefig(\"City Latitude vs Wind Speed.png\")"
   ]
  },
  {
   "cell_type": "code",
   "execution_count": 44,
   "id": "de8b78d5",
   "metadata": {},
   "outputs": [
    {
     "ename": "SyntaxError",
     "evalue": "invalid syntax (<ipython-input-44-90f603ef5683>, line 1)",
     "output_type": "error",
     "traceback": [
      "\u001b[1;36m  File \u001b[1;32m\"<ipython-input-44-90f603ef5683>\"\u001b[1;36m, line \u001b[1;32m1\u001b[0m\n\u001b[1;33m    Linear Regression\u001b[0m\n\u001b[1;37m           ^\u001b[0m\n\u001b[1;31mSyntaxError\u001b[0m\u001b[1;31m:\u001b[0m invalid syntax\n"
     ]
    }
   ],
   "source": [
    "Linear Regression"
   ]
  },
  {
   "cell_type": "code",
   "execution_count": 51,
   "id": "974f56be",
   "metadata": {},
   "outputs": [
    {
     "name": "stdout",
     "output_type": "stream",
     "text": [
      "The r-squared is : -0.79\n"
     ]
    },
    {
     "data": {
      "image/png": "[encoded data removed]",
      "text/plain": [
       "<Figure size 432x288 with 1 Axes>"
      ]
     },
     "metadata": {
      "needs_background": "light"
     },
     "output_type": "display_data"
    },
    {
     "data": {
      "text/plain": [
       "<Figure size 432x288 with 0 Axes>"
      ]
     },
     "metadata": {},
     "output_type": "display_data"
    }
   ],
   "source": [
    "# Northern Hemisphere - Max Temp vs. Latitude Linear Regressio\n",
    "\n",
    "north_hemp_df= weather_df.loc[weather_df['Lat']>=0]\n",
    "\n",
    "\n",
    "# creating linear agression and scatter plot\n",
    "\n",
    "x_values = north_hemp_df['Lat']\n",
    "y_values = north_hemp_df['Max Temp']\n",
    "\n",
    "(slope, intercept, rvalue, pvalue, stderr) = linregress(x_values, y_values)\n",
    "regress_values = x_values * slope + intercept\n",
    "line_eq = \"y = \" + str(round(slope,2)) + \"x + \" + str(round(intercept,2))\n",
    "plt.scatter(x_values,y_values)\n",
    "plt.plot(x_values,regress_values,\"r-\")\n",
    "print(f\"The r-squared is : {round(st.pearsonr(x_values, y_values)[0],2)}\")\n",
    "plt.annotate(line_eq,(6,10),fontsize=15,color=\"red\")\n",
    "plt.xlabel('Latitude')\n",
    "plt.ylabel('Max Temp (F)')\n",
    "plt.show()\n",
    "plt.savefig(\"northen Hemisphere - Max Temp vs. Latitude Linear Regression.png\")"
   ]
  },
  {
   "cell_type": "code",
   "execution_count": 54,
   "id": "10ab5d99",
   "metadata": {},
   "outputs": [
    {
     "name": "stdout",
     "output_type": "stream",
     "text": [
      "The r-squared is : 0.76\n"
     ]
    },
    {
     "data": {
      "image/png": "[encoded data removed]",
      "text/plain": [
       "<Figure size 432x288 with 1 Axes>"
      ]
     },
     "metadata": {
      "needs_background": "light"
     },
     "output_type": "display_data"
    },
    {
     "data": {
      "text/plain": [
       "<Figure size 432x288 with 0 Axes>"
      ]
     },
     "metadata": {},
     "output_type": "display_data"
    }
   ],
   "source": [
    "south_hemp_df = weather_df.loc[weather_df['Lat']< 0]\n",
    "\n",
    "x = south_hemp_df['Lat']\n",
    "y = south_hemp_df['Max Temp']\n",
    "\n",
    "(slope, intercept, rvalue, pvalue, stderr) = linregress(x, y)\n",
    "regress_values = x * slope + intercept\n",
    "line_eq = \"y = \" + str(round(slope,2)) + \"x + \" + str(round(intercept,2))\n",
    "plt.scatter(x,y)\n",
    "plt.plot(x,regress_values,\"r-\")\n",
    "print(f\"The r-squared is : {round(st.pearsonr(x, y)[0],2)}\")\n",
    "plt.annotate(line_eq,(6,10),fontsize=15,color=\"red\")\n",
    "plt.xlabel('Latitude')\n",
    "plt.ylabel('Max Temp (F)')\n",
    "plt.show()\n",
    "plt.savefig(\"Sourthen Hemisphere - Max Temp vs. Latitude Linear Regression.png\")"
   ]
  },
  {
   "cell_type": "code",
   "execution_count": 56,
   "id": "9b7c0e8a",
   "metadata": {},
   "outputs": [
    {
     "name": "stdout",
     "output_type": "stream",
     "text": [
      "The r-squared is : 0.01\n"
     ]
    },
    {
     "data": {
      "image/png": "[encoded data removed]",
      "text/plain": [
       "<Figure size 432x288 with 1 Axes>"
      ]
     },
     "metadata": {
      "needs_background": "light"
     },
     "output_type": "display_data"
    },
    {
     "data": {
      "text/plain": [
       "<Figure size 432x288 with 0 Axes>"
      ]
     },
     "metadata": {},
     "output_type": "display_data"
    }
   ],
   "source": [
    "#Northern Hemisphere - Humidity (%) vs. Latitude Linear Regression¶\n",
    "x_values = north_hemp_df['Lat']\n",
    "y_values = north_hemp_df['Humidity']\n",
    "\n",
    "(slope, intercept, rvalue, pvalue, stderr) = linregress(x_values, y_values)\n",
    "regress_values = x_values * slope + intercept\n",
    "line_eq = \"y = \" + str(round(slope,2)) + \"x + \" + str(round(intercept,2))\n",
    "plt.scatter(x_values,y_values)\n",
    "plt.plot(x_values,regress_values,\"r-\")\n",
    "print(f\"The r-squared is : {round(st.pearsonr(x_values, y_values)[0],2)}\")\n",
    "plt.annotate(line_eq,(6,10),fontsize=15,color=\"red\")\n",
    "plt.xlabel('Latitude')\n",
    "plt.ylabel('Humidity')\n",
    "plt.show()\n",
    "plt.savefig(\"Northern Hemisphere - Humidity (%) vs. Latitude Linear Regression.png\")"
   ]
  },
  {
   "cell_type": "code",
   "execution_count": 58,
   "id": "6764b9cd",
   "metadata": {},
   "outputs": [
    {
     "name": "stdout",
     "output_type": "stream",
     "text": [
      "The r-squared is : 0.03\n"
     ]
    },
    {
     "data": {
      "image/png": "[encoded data removed]",
      "text/plain": [
       "<Figure size 432x288 with 1 Axes>"
      ]
     },
     "metadata": {
      "needs_background": "light"
     },
     "output_type": "display_data"
    },
    {
     "data": {
      "text/plain": [
       "<Figure size 432x288 with 0 Axes>"
      ]
     },
     "metadata": {},
     "output_type": "display_data"
    }
   ],
   "source": [
    "south_hemp_df = weather_df.loc[weather_df['Lat']< 0]\n",
    "\n",
    "x = south_hemp_df['Lat']\n",
    "y = south_hemp_df['Humidity']\n",
    "\n",
    "(slope, intercept, rvalue, pvalue, stderr) = linregress(x, y)\n",
    "regress_values = x * slope + intercept\n",
    "line_eq = \"y = \" + str(round(slope,2)) + \"x + \" + str(round(intercept,2))\n",
    "plt.scatter(x,y)\n",
    "plt.plot(x,regress_values,\"r-\")\n",
    "print(f\"The r-squared is : {round(st.pearsonr(x, y)[0],2)}\")\n",
    "plt.annotate(line_eq,(6,10),fontsize=15,color=\"red\")\n",
    "plt.xlabel('Latitude')\n",
    "plt.ylabel('Humidity')\n",
    "plt.show()\n",
    "plt.savefig(\"Southern Hemisphere - Humidity (%) vs. Latitude Linear Regression.png\")"
   ]
  },
  {
   "cell_type": "code",
   "execution_count": 60,
   "id": "8b041663",
   "metadata": {},
   "outputs": [
    {
     "name": "stdout",
     "output_type": "stream",
     "text": [
      "The r-squared is : 0.05\n"
     ]
    },
    {
     "data": {
      "image/png": "[encoded data removed]",
      "text/plain": [
       "<Figure size 432x288 with 1 Axes>"
      ]
     },
     "metadata": {
      "needs_background": "light"
     },
     "output_type": "display_data"
    },
    {
     "data": {
      "text/plain": [
       "<Figure size 432x288 with 0 Axes>"
      ]
     },
     "metadata": {},
     "output_type": "display_data"
    }
   ],
   "source": [
    "#Northern Hemisphere - Cloudiness (%) vs. Latitude Linear Regression\n",
    "x_values = north_hemp_df['Lat']\n",
    "y_values = north_hemp_df['Cloudiness']\n",
    "\n",
    "(slope, intercept, rvalue, pvalue, stderr) = linregress(x_values, y_values)\n",
    "regress_values = x_values * slope + intercept\n",
    "line_eq = \"y = \" + str(round(slope,2)) + \"x + \" + str(round(intercept,2))\n",
    "plt.scatter(x_values,y_values)\n",
    "plt.plot(x_values,regress_values,\"r-\")\n",
    "print(f\"The r-squared is : {round(st.pearsonr(x_values, y_values)[0],2)}\")\n",
    "plt.annotate(line_eq,(6,10),fontsize=15,color=\"red\")\n",
    "plt.xlabel('Latitude')\n",
    "plt.ylabel('Cloudiness')\n",
    "plt.show()\n",
    "plt.savefig(\"Northern Hemisphere - Cloudiness vs. Latitude Linear Regression.png\")"
   ]
  },
  {
   "cell_type": "code",
   "execution_count": 62,
   "id": "100ec476",
   "metadata": {},
   "outputs": [
    {
     "name": "stdout",
     "output_type": "stream",
     "text": [
      "The r-squared is : 0.05\n"
     ]
    },
    {
     "data": {
      "image/png": "[encoded data removed]",
      "text/plain": [
       "<Figure size 432x288 with 1 Axes>"
      ]
     },
     "metadata": {
      "needs_background": "light"
     },
     "output_type": "display_data"
    },
    {
     "data": {
      "text/plain": [
       "<Figure size 432x288 with 0 Axes>"
      ]
     },
     "metadata": {},
     "output_type": "display_data"
    }
   ],
   "source": [
    "x = south_hemp_df['Lat']\n",
    "y = south_hemp_df['Cloudiness']\n",
    "\n",
    "(slope, intercept, rvalue, pvalue, stderr) = linregress(x, y)\n",
    "regress_values = x * slope + intercept\n",
    "line_eq = \"y = \" + str(round(slope,2)) + \"x + \" + str(round(intercept,2))\n",
    "plt.scatter(x,y)\n",
    "plt.plot(x,regress_values,\"r-\")\n",
    "print(f\"The r-squared is : {round(st.pearsonr(x, y)[0],2)}\")\n",
    "plt.annotate(line_eq,(6,10),fontsize=15,color=\"red\")\n",
    "plt.xlabel('Latitude')\n",
    "plt.ylabel('Cloudiness')\n",
    "plt.show()\n",
    "plt.savefig(\"Southern Hemispher -Cloudiness vs. Latitude Linear Regression.png\")"
   ]
  },
  {
   "cell_type": "code",
   "execution_count": 64,
   "id": "066d9eb9",
   "metadata": {},
   "outputs": [
    {
     "name": "stdout",
     "output_type": "stream",
     "text": [
      "The r-squared is : 0.15\n"
     ]
    },
    {
     "data": {
      "image/png": "[encoded data removed]",
      "text/plain": [
       "<Figure size 432x288 with 1 Axes>"
      ]
     },
     "metadata": {
      "needs_background": "light"
     },
     "output_type": "display_data"
    },
    {
     "data": {
      "text/plain": [
       "<Figure size 432x288 with 0 Axes>"
      ]
     },
     "metadata": {},
     "output_type": "display_data"
    }
   ],
   "source": [
    "#Northern Hemisphere - windspeed vs. Latitude Linear Regression\n",
    "x_values = north_hemp_df['Lat']\n",
    "y_values = north_hemp_df['Wind Speed']\n",
    "\n",
    "(slope, intercept, rvalue, pvalue, stderr) = linregress(x_values, y_values)\n",
    "regress_values = x_values * slope + intercept\n",
    "line_eq = \"y = \" + str(round(slope,2)) + \"x + \" + str(round(intercept,2))\n",
    "plt.scatter(x_values,y_values)\n",
    "plt.plot(x_values,regress_values,\"r-\")\n",
    "print(f\"The r-squared is : {round(st.pearsonr(x_values, y_values)[0],2)}\")\n",
    "plt.annotate(line_eq,(6,10),fontsize=15,color=\"red\")\n",
    "plt.xlabel('Latitude')\n",
    "plt.ylabel('Wind Speed')\n",
    "plt.show()\n",
    "plt.savefig(\"Northern Hemisphere - Wind speed vs. Latitude Linear Regression.png\")"
   ]
  },
  {
   "cell_type": "code",
   "execution_count": 65,
   "id": "7a280d52",
   "metadata": {},
   "outputs": [
    {
     "name": "stdout",
     "output_type": "stream",
     "text": [
      "The r-squared is : -0.12\n"
     ]
    },
    {
     "data": {
      "image/png": "[encoded data removed]",
      "text/plain": [
       "<Figure size 432x288 with 1 Axes>"
      ]
     },
     "metadata": {
      "needs_background": "light"
     },
     "output_type": "display_data"
    },
    {
     "data": {
      "text/plain": [
       "<Figure size 432x288 with 0 Axes>"
      ]
     },
     "metadata": {},
     "output_type": "display_data"
    }
   ],
   "source": [
    "x = south_hemp_df['Lat']\n",
    "y = south_hemp_df['Wind Speed']\n",
    "\n",
    "(slope, intercept, rvalue, pvalue, stderr) = linregress(x, y)\n",
    "regress_values = x * slope + intercept\n",
    "line_eq = \"y = \" + str(round(slope,2)) + \"x + \" + str(round(intercept,2))\n",
    "plt.scatter(x,y)\n",
    "plt.plot(x,regress_values,\"r-\")\n",
    "print(f\"The r-squared is : {round(st.pearsonr(x, y)[0],2)}\")\n",
    "plt.annotate(line_eq,(6,10),fontsize=15,color=\"red\")\n",
    "plt.xlabel('Latitude')\n",
    "plt.ylabel('Wind Speed')\n",
    "plt.show()\n",
    "plt.savefig(\"Southern Hemispher -Wind Speed vs. Latitude Linear Regression.png\")"
   ]
  }
 ],
 "metadata": {
  "kernelspec": {
   "display_name": "Python 3",
   "language": "python",
   "name": "python3"
  },
  "language_info": {
   "codemirror_mode": {
    "name": "ipython",
    "version": 3
   },
   "file_extension": ".py",
   "mimetype": "text/x-python",
   "name": "python",
   "nbconvert_exporter": "python",
   "pygments_lexer": "ipython3",
   "version": "3.8.8"
  }
 },
 "nbformat": 4,
 "nbformat_minor": 5
}
